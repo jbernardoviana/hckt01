{
 "cells": [
  {
   "cell_type": "code",
   "execution_count": 1,
   "metadata": {},
   "outputs": [],
   "source": [
    "import pandas as pd\n",
    "import numpy as np\n",
    "import seaborn as sns\n",
    "from matplotlib import pyplot as plt\n",
    "\n",
    "from sklearn.metrics import accuracy_score, precision_score, \\\n",
    "                            recall_score, f1_score, \\\n",
    "                            roc_auc_score, roc_curve, \\\n",
    "                            confusion_matrix\n",
    "\n",
    "from sklearn.model_selection import train_test_split\n",
    "\n",
    "\n",
    "# PIPELINE STUFF"
   ]
  },
  {
   "cell_type": "markdown",
   "metadata": {},
   "source": [
    "### Recommendations\n",
    "\n",
    "❗Bear in mind that the dataset is imbalanced. \n",
    "\n",
    "❗Note that the dataset contains time dependencies so you will have to be careful on how to split your dataset for training and validation of the model (hint, hint: sorting on the timestamp sorts on time)\n",
    "\n",
    "❗You may have categorical variables with high cardinality. \n",
    "\n",
    "❗There are categorical values that may exist in the test set, but not in the train set. You’ll need to be clever in how you deal with this. \n",
    "\n",
    "❗If at any moment if looks like your computer is about to fly, you might find useful to work with samples. You may also find that heavier operations may take really long (or even crash your machine) on such a big dataset, so be smart about how your use your resources.\n",
    "\n",
    "❗Remember: “weeks of programming can save hours of planning”, so work with your team to plan and distribute work before diving in! \n",
    "\n",
    "❗Focus on feature engineering and data understanding/exploration, which type of features you can build to characterize user past behavior.\n",
    "\n",
    "❗Make sure that you get to and submit a baseline ASAP! Then work on improving it.\n"
   ]
  },
  {
   "cell_type": "markdown",
   "metadata": {},
   "source": [
    "#1. GET DATA\n",
    "\n",
    "#2. DATA ANALYSIS AND PREPARATION\n",
    "\n",
    "\n",
    "#2.1 DATA ANALYSIS\n",
    "\n",
    "#2.2 DEALING WITH DATA PROBLEMS\n",
    "\n",
    "#2.3 FEATURE ENGINEERING\n",
    "\n",
    "#2.4 FEATURE SELECTION\n",
    "\n",
    "#3. TRAIN MODEL\n",
    "\n",
    "#4. EVALUATE RESULTS"
   ]
  },
  {
   "cell_type": "markdown",
   "metadata": {},
   "source": [
    "# #1. GET DATA"
   ]
  },
  {
   "cell_type": "code",
   "execution_count": 2,
   "metadata": {},
   "outputs": [
    {
     "name": "stdout",
     "output_type": "stream",
     "text": [
      "sample_submission.csv test.csv              train.csv\r\n"
     ]
    }
   ],
   "source": [
    "df = pd.read_csv(\"data/train.csv\")\n",
    "test_df = pd.read_csv(\"data/test.csv\")\n",
    "\n",
    "!ls data/"
   ]
  },
  {
   "cell_type": "code",
   "execution_count": 3,
   "metadata": {},
   "outputs": [],
   "source": [
    "train_df = df.copy()"
   ]
  },
  {
   "cell_type": "code",
   "execution_count": 4,
   "metadata": {},
   "outputs": [
    {
     "data": {
      "text/plain": [
       "Index(['ID', 'DATE_DEPARTURE_UTC', 'DATE_ARRIVAL_UTC', 'DATE_DEPARTURE_LCL',\n",
       "       'DATE_ARRIVAL_LCL', 'ORIGIN', 'ORIGIN_AIRPORT_ID', 'DEST',\n",
       "       'DEST_AIRPORT_ID', 'TAIL_NUM', 'OP_CARRIER', 'OP_CARRIER_AIRLINE_ID',\n",
       "       'OP_CARRIER_FL_NUM', 'DISTANCE', 'CANCELLED', 'DEP_DEL15', 'ARR_DEL15'],\n",
       "      dtype='object')"
      ]
     },
     "execution_count": 4,
     "metadata": {},
     "output_type": "execute_result"
    }
   ],
   "source": [
    "train_df.columns"
   ]
  },
  {
   "cell_type": "markdown",
   "metadata": {},
   "source": [
    "# #2. DATA ANALYSIS AND PREPARATION"
   ]
  },
  {
   "cell_type": "markdown",
   "metadata": {},
   "source": [
    "## #2.1 DATA ANALYSIS"
   ]
  },
  {
   "cell_type": "code",
   "execution_count": 5,
   "metadata": {},
   "outputs": [
    {
     "data": {
      "text/plain": [
       "(419487, 17)"
      ]
     },
     "execution_count": 5,
     "metadata": {},
     "output_type": "execute_result"
    }
   ],
   "source": [
    "train_df.shape"
   ]
  },
  {
   "cell_type": "code",
   "execution_count": 6,
   "metadata": {},
   "outputs": [
    {
     "data": {
      "text/html": [
       "<div>\n",
       "<style scoped>\n",
       "    .dataframe tbody tr th:only-of-type {\n",
       "        vertical-align: middle;\n",
       "    }\n",
       "\n",
       "    .dataframe tbody tr th {\n",
       "        vertical-align: top;\n",
       "    }\n",
       "\n",
       "    .dataframe thead th {\n",
       "        text-align: right;\n",
       "    }\n",
       "</style>\n",
       "<table border=\"1\" class=\"dataframe\">\n",
       "  <thead>\n",
       "    <tr style=\"text-align: right;\">\n",
       "      <th></th>\n",
       "      <th>ID</th>\n",
       "      <th>ORIGIN_AIRPORT_ID</th>\n",
       "      <th>DEST_AIRPORT_ID</th>\n",
       "      <th>OP_CARRIER_AIRLINE_ID</th>\n",
       "      <th>OP_CARRIER_FL_NUM</th>\n",
       "      <th>DISTANCE</th>\n",
       "      <th>CANCELLED</th>\n",
       "      <th>DEP_DEL15</th>\n",
       "      <th>ARR_DEL15</th>\n",
       "    </tr>\n",
       "  </thead>\n",
       "  <tbody>\n",
       "    <tr>\n",
       "      <th>count</th>\n",
       "      <td>419487.000000</td>\n",
       "      <td>419487.000000</td>\n",
       "      <td>419487.000000</td>\n",
       "      <td>419487.000000</td>\n",
       "      <td>419487.000000</td>\n",
       "      <td>401869.000000</td>\n",
       "      <td>419487.0</td>\n",
       "      <td>272667.000000</td>\n",
       "      <td>419487.000000</td>\n",
       "    </tr>\n",
       "    <tr>\n",
       "      <th>mean</th>\n",
       "      <td>212639.517973</td>\n",
       "      <td>12656.739730</td>\n",
       "      <td>12655.545597</td>\n",
       "      <td>19993.369749</td>\n",
       "      <td>2628.837404</td>\n",
       "      <td>803.586898</td>\n",
       "      <td>0.0</td>\n",
       "      <td>0.147227</td>\n",
       "      <td>0.148264</td>\n",
       "    </tr>\n",
       "    <tr>\n",
       "      <th>std</th>\n",
       "      <td>123449.043509</td>\n",
       "      <td>1525.037067</td>\n",
       "      <td>1524.512434</td>\n",
       "      <td>375.543815</td>\n",
       "      <td>1825.643818</td>\n",
       "      <td>589.887296</td>\n",
       "      <td>0.0</td>\n",
       "      <td>0.354333</td>\n",
       "      <td>0.355362</td>\n",
       "    </tr>\n",
       "    <tr>\n",
       "      <th>min</th>\n",
       "      <td>0.000000</td>\n",
       "      <td>10135.000000</td>\n",
       "      <td>10135.000000</td>\n",
       "      <td>19393.000000</td>\n",
       "      <td>1.000000</td>\n",
       "      <td>31.000000</td>\n",
       "      <td>0.0</td>\n",
       "      <td>0.000000</td>\n",
       "      <td>0.000000</td>\n",
       "    </tr>\n",
       "    <tr>\n",
       "      <th>25%</th>\n",
       "      <td>105540.500000</td>\n",
       "      <td>11292.000000</td>\n",
       "      <td>11292.000000</td>\n",
       "      <td>19790.000000</td>\n",
       "      <td>1073.000000</td>\n",
       "      <td>370.000000</td>\n",
       "      <td>0.0</td>\n",
       "      <td>0.000000</td>\n",
       "      <td>0.000000</td>\n",
       "    </tr>\n",
       "    <tr>\n",
       "      <th>50%</th>\n",
       "      <td>212787.000000</td>\n",
       "      <td>12889.000000</td>\n",
       "      <td>12889.000000</td>\n",
       "      <td>19977.000000</td>\n",
       "      <td>2184.000000</td>\n",
       "      <td>645.000000</td>\n",
       "      <td>0.0</td>\n",
       "      <td>0.000000</td>\n",
       "      <td>0.000000</td>\n",
       "    </tr>\n",
       "    <tr>\n",
       "      <th>75%</th>\n",
       "      <td>319018.500000</td>\n",
       "      <td>14027.000000</td>\n",
       "      <td>14027.000000</td>\n",
       "      <td>20378.000000</td>\n",
       "      <td>4115.000000</td>\n",
       "      <td>1045.000000</td>\n",
       "      <td>0.0</td>\n",
       "      <td>0.000000</td>\n",
       "      <td>0.000000</td>\n",
       "    </tr>\n",
       "    <tr>\n",
       "      <th>max</th>\n",
       "      <td>435681.000000</td>\n",
       "      <td>16869.000000</td>\n",
       "      <td>16869.000000</td>\n",
       "      <td>20452.000000</td>\n",
       "      <td>6799.000000</td>\n",
       "      <td>5095.000000</td>\n",
       "      <td>0.0</td>\n",
       "      <td>1.000000</td>\n",
       "      <td>1.000000</td>\n",
       "    </tr>\n",
       "  </tbody>\n",
       "</table>\n",
       "</div>"
      ],
      "text/plain": [
       "                  ID  ORIGIN_AIRPORT_ID  DEST_AIRPORT_ID  \\\n",
       "count  419487.000000      419487.000000    419487.000000   \n",
       "mean   212639.517973       12656.739730     12655.545597   \n",
       "std    123449.043509        1525.037067      1524.512434   \n",
       "min         0.000000       10135.000000     10135.000000   \n",
       "25%    105540.500000       11292.000000     11292.000000   \n",
       "50%    212787.000000       12889.000000     12889.000000   \n",
       "75%    319018.500000       14027.000000     14027.000000   \n",
       "max    435681.000000       16869.000000     16869.000000   \n",
       "\n",
       "       OP_CARRIER_AIRLINE_ID  OP_CARRIER_FL_NUM       DISTANCE  CANCELLED  \\\n",
       "count          419487.000000      419487.000000  401869.000000   419487.0   \n",
       "mean            19993.369749        2628.837404     803.586898        0.0   \n",
       "std               375.543815        1825.643818     589.887296        0.0   \n",
       "min             19393.000000           1.000000      31.000000        0.0   \n",
       "25%             19790.000000        1073.000000     370.000000        0.0   \n",
       "50%             19977.000000        2184.000000     645.000000        0.0   \n",
       "75%             20378.000000        4115.000000    1045.000000        0.0   \n",
       "max             20452.000000        6799.000000    5095.000000        0.0   \n",
       "\n",
       "           DEP_DEL15      ARR_DEL15  \n",
       "count  272667.000000  419487.000000  \n",
       "mean        0.147227       0.148264  \n",
       "std         0.354333       0.355362  \n",
       "min         0.000000       0.000000  \n",
       "25%         0.000000       0.000000  \n",
       "50%         0.000000       0.000000  \n",
       "75%         0.000000       0.000000  \n",
       "max         1.000000       1.000000  "
      ]
     },
     "execution_count": 6,
     "metadata": {},
     "output_type": "execute_result"
    }
   ],
   "source": [
    "train_df.describe()"
   ]
  },
  {
   "cell_type": "code",
   "execution_count": 7,
   "metadata": {},
   "outputs": [
    {
     "data": {
      "text/plain": [
       "0.0    232523\n",
       "1.0     40144\n",
       "Name: DEP_DEL15, dtype: int64"
      ]
     },
     "execution_count": 7,
     "metadata": {},
     "output_type": "execute_result"
    }
   ],
   "source": [
    "train_df[\"DEP_DEL15\"].value_counts()"
   ]
  },
  {
   "cell_type": "code",
   "execution_count": 8,
   "metadata": {},
   "outputs": [
    {
     "data": {
      "text/html": [
       "<div>\n",
       "<style scoped>\n",
       "    .dataframe tbody tr th:only-of-type {\n",
       "        vertical-align: middle;\n",
       "    }\n",
       "\n",
       "    .dataframe tbody tr th {\n",
       "        vertical-align: top;\n",
       "    }\n",
       "\n",
       "    .dataframe thead th {\n",
       "        text-align: right;\n",
       "    }\n",
       "</style>\n",
       "<table border=\"1\" class=\"dataframe\">\n",
       "  <thead>\n",
       "    <tr style=\"text-align: right;\">\n",
       "      <th></th>\n",
       "      <th>ID</th>\n",
       "      <th>DATE_DEPARTURE_UTC</th>\n",
       "      <th>DATE_ARRIVAL_UTC</th>\n",
       "      <th>DATE_DEPARTURE_LCL</th>\n",
       "      <th>DATE_ARRIVAL_LCL</th>\n",
       "      <th>ORIGIN</th>\n",
       "      <th>ORIGIN_AIRPORT_ID</th>\n",
       "      <th>DEST</th>\n",
       "      <th>DEST_AIRPORT_ID</th>\n",
       "      <th>TAIL_NUM</th>\n",
       "      <th>OP_CARRIER</th>\n",
       "      <th>OP_CARRIER_AIRLINE_ID</th>\n",
       "      <th>OP_CARRIER_FL_NUM</th>\n",
       "      <th>DISTANCE</th>\n",
       "      <th>CANCELLED</th>\n",
       "      <th>DEP_DEL15</th>\n",
       "    </tr>\n",
       "  </thead>\n",
       "  <tbody>\n",
       "    <tr>\n",
       "      <th>0</th>\n",
       "      <td>425552</td>\n",
       "      <td>2020-01-23 01:26:00</td>\n",
       "      <td>2020-01-23 02:52:00</td>\n",
       "      <td>2020-01-22 20:26:00</td>\n",
       "      <td>2020-01-22 21:52:00</td>\n",
       "      <td>LGA</td>\n",
       "      <td>12953</td>\n",
       "      <td>BGR</td>\n",
       "      <td>10581</td>\n",
       "      <td>N8894A</td>\n",
       "      <td>9E</td>\n",
       "      <td>20363</td>\n",
       "      <td>5032</td>\n",
       "      <td>378.0</td>\n",
       "      <td>0</td>\n",
       "      <td>NaN</td>\n",
       "    </tr>\n",
       "    <tr>\n",
       "      <th>1</th>\n",
       "      <td>415418</td>\n",
       "      <td>2020-01-23 01:26:00</td>\n",
       "      <td>2020-01-23 03:04:00</td>\n",
       "      <td>2020-01-22 19:26:00</td>\n",
       "      <td>2020-01-22 22:04:00</td>\n",
       "      <td>MDW</td>\n",
       "      <td>13232</td>\n",
       "      <td>PHL</td>\n",
       "      <td>14100</td>\n",
       "      <td>N8615E</td>\n",
       "      <td>WN</td>\n",
       "      <td>19393</td>\n",
       "      <td>1168</td>\n",
       "      <td>668.0</td>\n",
       "      <td>0</td>\n",
       "      <td>NaN</td>\n",
       "    </tr>\n",
       "    <tr>\n",
       "      <th>2</th>\n",
       "      <td>414222</td>\n",
       "      <td>2020-01-23 01:26:00</td>\n",
       "      <td>2020-01-23 03:06:00</td>\n",
       "      <td>2020-01-22 18:26:00</td>\n",
       "      <td>2020-01-22 19:06:00</td>\n",
       "      <td>DEN</td>\n",
       "      <td>11292</td>\n",
       "      <td>LAS</td>\n",
       "      <td>12889</td>\n",
       "      <td>N7853B</td>\n",
       "      <td>WN</td>\n",
       "      <td>19393</td>\n",
       "      <td>799</td>\n",
       "      <td>628.0</td>\n",
       "      <td>0</td>\n",
       "      <td>NaN</td>\n",
       "    </tr>\n",
       "    <tr>\n",
       "      <th>3</th>\n",
       "      <td>421432</td>\n",
       "      <td>2020-01-23 01:26:00</td>\n",
       "      <td>2020-01-23 02:48:00</td>\n",
       "      <td>2020-01-22 17:26:00</td>\n",
       "      <td>2020-01-22 18:48:00</td>\n",
       "      <td>SJC</td>\n",
       "      <td>14831</td>\n",
       "      <td>SAN</td>\n",
       "      <td>14679</td>\n",
       "      <td>N7812G</td>\n",
       "      <td>WN</td>\n",
       "      <td>19393</td>\n",
       "      <td>4454</td>\n",
       "      <td>417.0</td>\n",
       "      <td>0</td>\n",
       "      <td>0.0</td>\n",
       "    </tr>\n",
       "    <tr>\n",
       "      <th>4</th>\n",
       "      <td>421356</td>\n",
       "      <td>2020-01-23 01:26:00</td>\n",
       "      <td>2020-01-23 02:24:00</td>\n",
       "      <td>2020-01-22 17:26:00</td>\n",
       "      <td>2020-01-22 18:24:00</td>\n",
       "      <td>SJC</td>\n",
       "      <td>14831</td>\n",
       "      <td>BUR</td>\n",
       "      <td>10800</td>\n",
       "      <td>N7859B</td>\n",
       "      <td>WN</td>\n",
       "      <td>19393</td>\n",
       "      <td>2024</td>\n",
       "      <td>296.0</td>\n",
       "      <td>0</td>\n",
       "      <td>NaN</td>\n",
       "    </tr>\n",
       "  </tbody>\n",
       "</table>\n",
       "</div>"
      ],
      "text/plain": [
       "       ID   DATE_DEPARTURE_UTC     DATE_ARRIVAL_UTC   DATE_DEPARTURE_LCL  \\\n",
       "0  425552  2020-01-23 01:26:00  2020-01-23 02:52:00  2020-01-22 20:26:00   \n",
       "1  415418  2020-01-23 01:26:00  2020-01-23 03:04:00  2020-01-22 19:26:00   \n",
       "2  414222  2020-01-23 01:26:00  2020-01-23 03:06:00  2020-01-22 18:26:00   \n",
       "3  421432  2020-01-23 01:26:00  2020-01-23 02:48:00  2020-01-22 17:26:00   \n",
       "4  421356  2020-01-23 01:26:00  2020-01-23 02:24:00  2020-01-22 17:26:00   \n",
       "\n",
       "      DATE_ARRIVAL_LCL ORIGIN  ORIGIN_AIRPORT_ID DEST  DEST_AIRPORT_ID  \\\n",
       "0  2020-01-22 21:52:00    LGA              12953  BGR            10581   \n",
       "1  2020-01-22 22:04:00    MDW              13232  PHL            14100   \n",
       "2  2020-01-22 19:06:00    DEN              11292  LAS            12889   \n",
       "3  2020-01-22 18:48:00    SJC              14831  SAN            14679   \n",
       "4  2020-01-22 18:24:00    SJC              14831  BUR            10800   \n",
       "\n",
       "  TAIL_NUM OP_CARRIER  OP_CARRIER_AIRLINE_ID  OP_CARRIER_FL_NUM  DISTANCE  \\\n",
       "0   N8894A         9E                  20363               5032     378.0   \n",
       "1   N8615E         WN                  19393               1168     668.0   \n",
       "2   N7853B         WN                  19393                799     628.0   \n",
       "3   N7812G         WN                  19393               4454     417.0   \n",
       "4   N7859B         WN                  19393               2024     296.0   \n",
       "\n",
       "   CANCELLED  DEP_DEL15  \n",
       "0          0        NaN  \n",
       "1          0        NaN  \n",
       "2          0        NaN  \n",
       "3          0        0.0  \n",
       "4          0        NaN  "
      ]
     },
     "execution_count": 8,
     "metadata": {},
     "output_type": "execute_result"
    }
   ],
   "source": [
    "test_df.head()"
   ]
  },
  {
   "cell_type": "markdown",
   "metadata": {},
   "source": [
    "## #2.2 DEALING WITH DATA PROBLEMS"
   ]
  },
  {
   "cell_type": "markdown",
   "metadata": {},
   "source": [
    "Nan values"
   ]
  },
  {
   "cell_type": "code",
   "execution_count": 9,
   "metadata": {},
   "outputs": [
    {
     "data": {
      "text/plain": [
       "ID                         int64\n",
       "DATE_DEPARTURE_UTC        object\n",
       "DATE_ARRIVAL_UTC          object\n",
       "DATE_DEPARTURE_LCL        object\n",
       "DATE_ARRIVAL_LCL          object\n",
       "ORIGIN                    object\n",
       "ORIGIN_AIRPORT_ID          int64\n",
       "DEST                      object\n",
       "DEST_AIRPORT_ID            int64\n",
       "TAIL_NUM                  object\n",
       "OP_CARRIER                object\n",
       "OP_CARRIER_AIRLINE_ID      int64\n",
       "OP_CARRIER_FL_NUM          int64\n",
       "DISTANCE                 float64\n",
       "CANCELLED                  int64\n",
       "DEP_DEL15                float64\n",
       "ARR_DEL15                  int64\n",
       "dtype: object"
      ]
     },
     "execution_count": 9,
     "metadata": {},
     "output_type": "execute_result"
    }
   ],
   "source": [
    "train_df.dtypes"
   ]
  },
  {
   "cell_type": "code",
   "execution_count": 10,
   "metadata": {},
   "outputs": [
    {
     "data": {
      "text/plain": [
       "146820"
      ]
     },
     "execution_count": 10,
     "metadata": {},
     "output_type": "execute_result"
    }
   ],
   "source": [
    "train_df.head()\n",
    "train_df[\"DEP_DEL15\"].isnull().sum()"
   ]
  },
  {
   "cell_type": "code",
   "execution_count": 11,
   "metadata": {},
   "outputs": [
    {
     "data": {
      "text/html": [
       "<div>\n",
       "<style scoped>\n",
       "    .dataframe tbody tr th:only-of-type {\n",
       "        vertical-align: middle;\n",
       "    }\n",
       "\n",
       "    .dataframe tbody tr th {\n",
       "        vertical-align: top;\n",
       "    }\n",
       "\n",
       "    .dataframe thead th {\n",
       "        text-align: right;\n",
       "    }\n",
       "</style>\n",
       "<table border=\"1\" class=\"dataframe\">\n",
       "  <thead>\n",
       "    <tr style=\"text-align: right;\">\n",
       "      <th></th>\n",
       "      <th>ID</th>\n",
       "      <th>DATE_DEPARTURE_UTC</th>\n",
       "      <th>DATE_ARRIVAL_UTC</th>\n",
       "      <th>DATE_DEPARTURE_LCL</th>\n",
       "      <th>DATE_ARRIVAL_LCL</th>\n",
       "      <th>ORIGIN</th>\n",
       "      <th>ORIGIN_AIRPORT_ID</th>\n",
       "      <th>DEST</th>\n",
       "      <th>DEST_AIRPORT_ID</th>\n",
       "      <th>TAIL_NUM</th>\n",
       "      <th>OP_CARRIER</th>\n",
       "      <th>OP_CARRIER_AIRLINE_ID</th>\n",
       "      <th>OP_CARRIER_FL_NUM</th>\n",
       "      <th>DISTANCE</th>\n",
       "      <th>CANCELLED</th>\n",
       "      <th>DEP_DEL15</th>\n",
       "      <th>ARR_DEL15</th>\n",
       "    </tr>\n",
       "  </thead>\n",
       "  <tbody>\n",
       "    <tr>\n",
       "      <th>0</th>\n",
       "      <td>345355</td>\n",
       "      <td>2020-01-18 22:10:00</td>\n",
       "      <td>2020-01-18 23:59:00</td>\n",
       "      <td>2020-01-18 15:10:00</td>\n",
       "      <td>2020-01-18 15:59:00</td>\n",
       "      <td>SLC</td>\n",
       "      <td>14869</td>\n",
       "      <td>SNA</td>\n",
       "      <td>14908</td>\n",
       "      <td>N128DU</td>\n",
       "      <td>DL</td>\n",
       "      <td>19790</td>\n",
       "      <td>1056</td>\n",
       "      <td>588.0</td>\n",
       "      <td>0</td>\n",
       "      <td>0.0</td>\n",
       "      <td>0</td>\n",
       "    </tr>\n",
       "    <tr>\n",
       "      <th>1</th>\n",
       "      <td>323447</td>\n",
       "      <td>2020-01-17 21:47:00</td>\n",
       "      <td>2020-01-18 04:10:00</td>\n",
       "      <td>2020-01-17 16:47:00</td>\n",
       "      <td>2020-01-17 20:10:00</td>\n",
       "      <td>BOS</td>\n",
       "      <td>10721</td>\n",
       "      <td>SEA</td>\n",
       "      <td>14747</td>\n",
       "      <td>N486AS</td>\n",
       "      <td>AS</td>\n",
       "      <td>19930</td>\n",
       "      <td>15</td>\n",
       "      <td>2496.0</td>\n",
       "      <td>0</td>\n",
       "      <td>NaN</td>\n",
       "      <td>0</td>\n",
       "    </tr>\n",
       "    <tr>\n",
       "      <th>2</th>\n",
       "      <td>242237</td>\n",
       "      <td>2020-01-13 13:26:00</td>\n",
       "      <td>2020-01-13 14:26:00</td>\n",
       "      <td>2020-01-13 07:26:00</td>\n",
       "      <td>2020-01-13 08:26:00</td>\n",
       "      <td>DAL</td>\n",
       "      <td>11259</td>\n",
       "      <td>HOU</td>\n",
       "      <td>12191</td>\n",
       "      <td>N901WN</td>\n",
       "      <td>WN</td>\n",
       "      <td>19393</td>\n",
       "      <td>3</td>\n",
       "      <td>239.0</td>\n",
       "      <td>0</td>\n",
       "      <td>NaN</td>\n",
       "      <td>0</td>\n",
       "    </tr>\n",
       "    <tr>\n",
       "      <th>3</th>\n",
       "      <td>271408</td>\n",
       "      <td>2020-01-15 02:45:00</td>\n",
       "      <td>2020-01-15 03:37:00</td>\n",
       "      <td>2020-01-14 20:45:00</td>\n",
       "      <td>2020-01-14 21:37:00</td>\n",
       "      <td>STL</td>\n",
       "      <td>15016</td>\n",
       "      <td>DSM</td>\n",
       "      <td>11423</td>\n",
       "      <td>N778SW</td>\n",
       "      <td>WN</td>\n",
       "      <td>19393</td>\n",
       "      <td>1588</td>\n",
       "      <td>259.0</td>\n",
       "      <td>0</td>\n",
       "      <td>0.0</td>\n",
       "      <td>0</td>\n",
       "    </tr>\n",
       "    <tr>\n",
       "      <th>4</th>\n",
       "      <td>282447</td>\n",
       "      <td>2020-01-15 23:22:00</td>\n",
       "      <td>2020-01-16 00:49:00</td>\n",
       "      <td>2020-01-15 18:22:00</td>\n",
       "      <td>2020-01-15 19:49:00</td>\n",
       "      <td>CLT</td>\n",
       "      <td>11057</td>\n",
       "      <td>CHS</td>\n",
       "      <td>10994</td>\n",
       "      <td>N579NN</td>\n",
       "      <td>OH</td>\n",
       "      <td>20397</td>\n",
       "      <td>5207</td>\n",
       "      <td>168.0</td>\n",
       "      <td>0</td>\n",
       "      <td>NaN</td>\n",
       "      <td>1</td>\n",
       "    </tr>\n",
       "  </tbody>\n",
       "</table>\n",
       "</div>"
      ],
      "text/plain": [
       "       ID   DATE_DEPARTURE_UTC     DATE_ARRIVAL_UTC   DATE_DEPARTURE_LCL  \\\n",
       "0  345355  2020-01-18 22:10:00  2020-01-18 23:59:00  2020-01-18 15:10:00   \n",
       "1  323447  2020-01-17 21:47:00  2020-01-18 04:10:00  2020-01-17 16:47:00   \n",
       "2  242237  2020-01-13 13:26:00  2020-01-13 14:26:00  2020-01-13 07:26:00   \n",
       "3  271408  2020-01-15 02:45:00  2020-01-15 03:37:00  2020-01-14 20:45:00   \n",
       "4  282447  2020-01-15 23:22:00  2020-01-16 00:49:00  2020-01-15 18:22:00   \n",
       "\n",
       "      DATE_ARRIVAL_LCL ORIGIN  ORIGIN_AIRPORT_ID DEST  DEST_AIRPORT_ID  \\\n",
       "0  2020-01-18 15:59:00    SLC              14869  SNA            14908   \n",
       "1  2020-01-17 20:10:00    BOS              10721  SEA            14747   \n",
       "2  2020-01-13 08:26:00    DAL              11259  HOU            12191   \n",
       "3  2020-01-14 21:37:00    STL              15016  DSM            11423   \n",
       "4  2020-01-15 19:49:00    CLT              11057  CHS            10994   \n",
       "\n",
       "  TAIL_NUM OP_CARRIER  OP_CARRIER_AIRLINE_ID  OP_CARRIER_FL_NUM  DISTANCE  \\\n",
       "0   N128DU         DL                  19790               1056     588.0   \n",
       "1   N486AS         AS                  19930                 15    2496.0   \n",
       "2   N901WN         WN                  19393                  3     239.0   \n",
       "3   N778SW         WN                  19393               1588     259.0   \n",
       "4   N579NN         OH                  20397               5207     168.0   \n",
       "\n",
       "   CANCELLED  DEP_DEL15  ARR_DEL15  \n",
       "0          0        0.0          0  \n",
       "1          0        NaN          0  \n",
       "2          0        NaN          0  \n",
       "3          0        0.0          0  \n",
       "4          0        NaN          1  "
      ]
     },
     "execution_count": 11,
     "metadata": {},
     "output_type": "execute_result"
    }
   ],
   "source": [
    "train_df.head()"
   ]
  },
  {
   "cell_type": "code",
   "execution_count": 12,
   "metadata": {},
   "outputs": [
    {
     "data": {
      "text/html": [
       "<div>\n",
       "<style scoped>\n",
       "    .dataframe tbody tr th:only-of-type {\n",
       "        vertical-align: middle;\n",
       "    }\n",
       "\n",
       "    .dataframe tbody tr th {\n",
       "        vertical-align: top;\n",
       "    }\n",
       "\n",
       "    .dataframe thead th {\n",
       "        text-align: right;\n",
       "    }\n",
       "</style>\n",
       "<table border=\"1\" class=\"dataframe\">\n",
       "  <thead>\n",
       "    <tr style=\"text-align: right;\">\n",
       "      <th></th>\n",
       "      <th>ID</th>\n",
       "      <th>ORIGIN_AIRPORT_ID</th>\n",
       "      <th>DEST_AIRPORT_ID</th>\n",
       "      <th>OP_CARRIER_AIRLINE_ID</th>\n",
       "      <th>OP_CARRIER_FL_NUM</th>\n",
       "      <th>DISTANCE</th>\n",
       "      <th>CANCELLED</th>\n",
       "      <th>ARR_DEL15</th>\n",
       "    </tr>\n",
       "    <tr>\n",
       "      <th>DEP_DEL15</th>\n",
       "      <th></th>\n",
       "      <th></th>\n",
       "      <th></th>\n",
       "      <th></th>\n",
       "      <th></th>\n",
       "      <th></th>\n",
       "      <th></th>\n",
       "      <th></th>\n",
       "    </tr>\n",
       "  </thead>\n",
       "  <tbody>\n",
       "    <tr>\n",
       "      <th>0.0</th>\n",
       "      <td>49744780941</td>\n",
       "      <td>2943315807</td>\n",
       "      <td>2942540062</td>\n",
       "      <td>4647713775</td>\n",
       "      <td>606709870</td>\n",
       "      <td>177990774.0</td>\n",
       "      <td>0</td>\n",
       "      <td>9968</td>\n",
       "    </tr>\n",
       "    <tr>\n",
       "      <th>1.0</th>\n",
       "      <td>8241947501</td>\n",
       "      <td>508064722</td>\n",
       "      <td>508484615</td>\n",
       "      <td>803734318</td>\n",
       "      <td>109647459</td>\n",
       "      <td>32125680.0</td>\n",
       "      <td>0</td>\n",
       "      <td>30459</td>\n",
       "    </tr>\n",
       "  </tbody>\n",
       "</table>\n",
       "</div>"
      ],
      "text/plain": [
       "                    ID  ORIGIN_AIRPORT_ID  DEST_AIRPORT_ID  \\\n",
       "DEP_DEL15                                                    \n",
       "0.0        49744780941         2943315807       2942540062   \n",
       "1.0         8241947501          508064722        508484615   \n",
       "\n",
       "           OP_CARRIER_AIRLINE_ID  OP_CARRIER_FL_NUM     DISTANCE  CANCELLED  \\\n",
       "DEP_DEL15                                                                     \n",
       "0.0                   4647713775          606709870  177990774.0          0   \n",
       "1.0                    803734318          109647459   32125680.0          0   \n",
       "\n",
       "           ARR_DEL15  \n",
       "DEP_DEL15             \n",
       "0.0             9968  \n",
       "1.0            30459  "
      ]
     },
     "execution_count": 12,
     "metadata": {},
     "output_type": "execute_result"
    }
   ],
   "source": [
    "train_df.groupby('DEP_DEL15').sum()"
   ]
  },
  {
   "cell_type": "code",
   "execution_count": 13,
   "metadata": {},
   "outputs": [
    {
     "data": {
      "text/html": [
       "<div>\n",
       "<style scoped>\n",
       "    .dataframe tbody tr th:only-of-type {\n",
       "        vertical-align: middle;\n",
       "    }\n",
       "\n",
       "    .dataframe tbody tr th {\n",
       "        vertical-align: top;\n",
       "    }\n",
       "\n",
       "    .dataframe thead th {\n",
       "        text-align: right;\n",
       "    }\n",
       "</style>\n",
       "<table border=\"1\" class=\"dataframe\">\n",
       "  <thead>\n",
       "    <tr style=\"text-align: right;\">\n",
       "      <th></th>\n",
       "      <th>DATE_DEPARTURE_LCL</th>\n",
       "      <th>DATE_ARRIVAL_LCL</th>\n",
       "      <th>ORIGIN_AIRPORT_ID</th>\n",
       "      <th>DEST_AIRPORT_ID</th>\n",
       "      <th>TAIL_NUM</th>\n",
       "      <th>OP_CARRIER_AIRLINE_ID</th>\n",
       "      <th>DISTANCE</th>\n",
       "      <th>DEP_DEL15</th>\n",
       "      <th>ARR_DEL15</th>\n",
       "    </tr>\n",
       "  </thead>\n",
       "  <tbody>\n",
       "    <tr>\n",
       "      <th>0</th>\n",
       "      <td>2020-01-18 15:10:00</td>\n",
       "      <td>2020-01-18 15:59:00</td>\n",
       "      <td>14869</td>\n",
       "      <td>14908</td>\n",
       "      <td>N128DU</td>\n",
       "      <td>19790</td>\n",
       "      <td>588.0</td>\n",
       "      <td>0.0</td>\n",
       "      <td>0</td>\n",
       "    </tr>\n",
       "    <tr>\n",
       "      <th>1</th>\n",
       "      <td>2020-01-17 16:47:00</td>\n",
       "      <td>2020-01-17 20:10:00</td>\n",
       "      <td>10721</td>\n",
       "      <td>14747</td>\n",
       "      <td>N486AS</td>\n",
       "      <td>19930</td>\n",
       "      <td>2496.0</td>\n",
       "      <td>NaN</td>\n",
       "      <td>0</td>\n",
       "    </tr>\n",
       "    <tr>\n",
       "      <th>2</th>\n",
       "      <td>2020-01-13 07:26:00</td>\n",
       "      <td>2020-01-13 08:26:00</td>\n",
       "      <td>11259</td>\n",
       "      <td>12191</td>\n",
       "      <td>N901WN</td>\n",
       "      <td>19393</td>\n",
       "      <td>239.0</td>\n",
       "      <td>NaN</td>\n",
       "      <td>0</td>\n",
       "    </tr>\n",
       "  </tbody>\n",
       "</table>\n",
       "</div>"
      ],
      "text/plain": [
       "    DATE_DEPARTURE_LCL     DATE_ARRIVAL_LCL  ORIGIN_AIRPORT_ID  \\\n",
       "0  2020-01-18 15:10:00  2020-01-18 15:59:00              14869   \n",
       "1  2020-01-17 16:47:00  2020-01-17 20:10:00              10721   \n",
       "2  2020-01-13 07:26:00  2020-01-13 08:26:00              11259   \n",
       "\n",
       "   DEST_AIRPORT_ID TAIL_NUM  OP_CARRIER_AIRLINE_ID  DISTANCE  DEP_DEL15  \\\n",
       "0            14908   N128DU                  19790     588.0        0.0   \n",
       "1            14747   N486AS                  19930    2496.0        NaN   \n",
       "2            12191   N901WN                  19393     239.0        NaN   \n",
       "\n",
       "   ARR_DEL15  \n",
       "0          0  \n",
       "1          0  \n",
       "2          0  "
      ]
     },
     "execution_count": 13,
     "metadata": {},
     "output_type": "execute_result"
    }
   ],
   "source": [
    "#DROP COLUMNS THAT HAVE OTHER COLUMNS WITH CORRESPONDING UNIQUE IDs\n",
    "train_df = train_df.drop(columns = [ \n",
    "    \"ID\",\n",
    "    \"ORIGIN\",\n",
    "    \"DEST\",\n",
    "    \"OP_CARRIER\",\n",
    "    \"OP_CARRIER_FL_NUM\",\n",
    "    \"CANCELLED\",\n",
    "    \"DATE_DEPARTURE_UTC\",\n",
    "    \"DATE_ARRIVAL_UTC\"\n",
    "])  \n",
    "\n",
    "#DROP IRRELEVANT COLUMNS\n",
    "#MAYBE \"OP_CARRIER_FL_NUM\" as it could be irrelevant\n",
    "# FOR LATER IMPROVEMENT\n",
    "\n",
    "#IF THE FLIGHT HAS BEEN CANCELLED IT DOESN'T COUNT FOR THE MODEL!\n",
    "# but there are no cancelled flight in the train set so drop this column\n",
    "train_df.head(3)"
   ]
  },
  {
   "cell_type": "code",
   "execution_count": 14,
   "metadata": {},
   "outputs": [
    {
     "name": "stdout",
     "output_type": "stream",
     "text": [
      "Before: 419487\n",
      "After: 272667\n"
     ]
    }
   ],
   "source": [
    "train_no_drops_df = train_df\n",
    "\n",
    "print(f\"Before: {train_df.shape[0]}\")\n",
    "train_df = train_df.dropna(subset=['DEP_DEL15'])\n",
    "print(f\"After: {train_df.shape[0]}\")"
   ]
  },
  {
   "cell_type": "markdown",
   "metadata": {},
   "source": [
    "Sorting by `timestamp`"
   ]
  },
  {
   "cell_type": "code",
   "execution_count": 31,
   "metadata": {},
   "outputs": [
    {
     "data": {
      "text/html": [
       "<div>\n",
       "<style scoped>\n",
       "    .dataframe tbody tr th:only-of-type {\n",
       "        vertical-align: middle;\n",
       "    }\n",
       "\n",
       "    .dataframe tbody tr th {\n",
       "        vertical-align: top;\n",
       "    }\n",
       "\n",
       "    .dataframe thead th {\n",
       "        text-align: right;\n",
       "    }\n",
       "</style>\n",
       "<table border=\"1\" class=\"dataframe\">\n",
       "  <thead>\n",
       "    <tr style=\"text-align: right;\">\n",
       "      <th></th>\n",
       "      <th>DATE_DEPARTURE_LCL</th>\n",
       "      <th>DATE_ARRIVAL_LCL</th>\n",
       "      <th>ORIGIN_AIRPORT_ID</th>\n",
       "      <th>DEST_AIRPORT_ID</th>\n",
       "      <th>TAIL_NUM</th>\n",
       "      <th>OP_CARRIER_AIRLINE_ID</th>\n",
       "      <th>DISTANCE</th>\n",
       "      <th>DEP_DEL15</th>\n",
       "      <th>ARR_DEL15</th>\n",
       "      <th>DAY_ARRIVAL_LCL</th>\n",
       "      <th>HOUR_ARRIVAL_LCL</th>\n",
       "      <th>WEEK_DAY_ARRIVAL_LCL</th>\n",
       "      <th>DAY_DEPARTURE_LCL</th>\n",
       "      <th>HOUR_DEPARTURE_LCL</th>\n",
       "      <th>WEEK_DAY_DEPARTURE_LCL</th>\n",
       "    </tr>\n",
       "  </thead>\n",
       "  <tbody>\n",
       "    <tr>\n",
       "      <th>280355</th>\n",
       "      <td>2020-01-01 00:01:00</td>\n",
       "      <td>2020-01-01 00:45:00</td>\n",
       "      <td>14107</td>\n",
       "      <td>15376</td>\n",
       "      <td>N243LR</td>\n",
       "      <td>20378</td>\n",
       "      <td>110.0</td>\n",
       "      <td>0.0</td>\n",
       "      <td>0</td>\n",
       "      <td>2020-01-01</td>\n",
       "      <td>0</td>\n",
       "      <td>Wed</td>\n",
       "      <td>2020-01-01</td>\n",
       "      <td>0</td>\n",
       "      <td>Wed</td>\n",
       "    </tr>\n",
       "    <tr>\n",
       "      <th>410769</th>\n",
       "      <td>2020-01-01 00:05:00</td>\n",
       "      <td>2020-01-01 01:05:00</td>\n",
       "      <td>10397</td>\n",
       "      <td>13342</td>\n",
       "      <td>N909DE</td>\n",
       "      <td>19790</td>\n",
       "      <td>669.0</td>\n",
       "      <td>1.0</td>\n",
       "      <td>1</td>\n",
       "      <td>2020-01-01</td>\n",
       "      <td>1</td>\n",
       "      <td>Wed</td>\n",
       "      <td>2020-01-01</td>\n",
       "      <td>0</td>\n",
       "      <td>Wed</td>\n",
       "    </tr>\n",
       "    <tr>\n",
       "      <th>340702</th>\n",
       "      <td>2020-01-01 00:05:00</td>\n",
       "      <td>2020-01-01 05:31:00</td>\n",
       "      <td>14107</td>\n",
       "      <td>11057</td>\n",
       "      <td>N181UW</td>\n",
       "      <td>19805</td>\n",
       "      <td>1773.0</td>\n",
       "      <td>0.0</td>\n",
       "      <td>0</td>\n",
       "      <td>2020-01-01</td>\n",
       "      <td>5</td>\n",
       "      <td>Wed</td>\n",
       "      <td>2020-01-01</td>\n",
       "      <td>0</td>\n",
       "      <td>Wed</td>\n",
       "    </tr>\n",
       "  </tbody>\n",
       "</table>\n",
       "</div>"
      ],
      "text/plain": [
       "        DATE_DEPARTURE_LCL    DATE_ARRIVAL_LCL  ORIGIN_AIRPORT_ID  \\\n",
       "280355 2020-01-01 00:01:00 2020-01-01 00:45:00              14107   \n",
       "410769 2020-01-01 00:05:00 2020-01-01 01:05:00              10397   \n",
       "340702 2020-01-01 00:05:00 2020-01-01 05:31:00              14107   \n",
       "\n",
       "        DEST_AIRPORT_ID TAIL_NUM  OP_CARRIER_AIRLINE_ID  DISTANCE  DEP_DEL15  \\\n",
       "280355            15376   N243LR                  20378     110.0        0.0   \n",
       "410769            13342   N909DE                  19790     669.0        1.0   \n",
       "340702            11057   N181UW                  19805    1773.0        0.0   \n",
       "\n",
       "        ARR_DEL15 DAY_ARRIVAL_LCL  HOUR_ARRIVAL_LCL WEEK_DAY_ARRIVAL_LCL  \\\n",
       "280355          0      2020-01-01                 0                  Wed   \n",
       "410769          1      2020-01-01                 1                  Wed   \n",
       "340702          0      2020-01-01                 5                  Wed   \n",
       "\n",
       "       DAY_DEPARTURE_LCL  HOUR_DEPARTURE_LCL WEEK_DAY_DEPARTURE_LCL  \n",
       "280355        2020-01-01                   0                    Wed  \n",
       "410769        2020-01-01                   0                    Wed  \n",
       "340702        2020-01-01                   0                    Wed  "
      ]
     },
     "execution_count": 31,
     "metadata": {},
     "output_type": "execute_result"
    }
   ],
   "source": [
    "train_df.reset_index()\n",
    "train_df = train_df.sort_values(\"DATE_DEPARTURE_LCL\")\n",
    "train_df.head(3)"
   ]
  },
  {
   "cell_type": "markdown",
   "metadata": {},
   "source": []
  },
  {
   "cell_type": "markdown",
   "metadata": {},
   "source": [
    "## #2.3 FEATURE ENGINEERING"
   ]
  },
  {
   "cell_type": "markdown",
   "metadata": {},
   "source": [
    "### Modifying Columns\n",
    "\n",
    "Changing the TIMESTAMPS to different columns - DAY and HOUR"
   ]
  },
  {
   "cell_type": "code",
   "execution_count": 16,
   "metadata": {},
   "outputs": [],
   "source": [
    "#train_df['DATE_DEPARTURE_UTC'] = pd.to_datetime(train_df['DATE_DEPARTURE_UTC'], format=\"%Y-%m-%d %H:%M:%S\" )\n",
    "train_df['DATE_ARRIVAL_LCL'] = pd.to_datetime(train_df['DATE_ARRIVAL_LCL'], format=\"%Y-%m-%d %H:%M:%S\" )\n",
    "train_df['DATE_DEPARTURE_LCL'] = pd.to_datetime(train_df['DATE_DEPARTURE_LCL'], format=\"%Y-%m-%d %H:%M:%S\" )"
   ]
  },
  {
   "cell_type": "code",
   "execution_count": 17,
   "metadata": {},
   "outputs": [
    {
     "data": {
      "text/plain": [
       "0         2020-01-18\n",
       "3         2020-01-14\n",
       "7         2020-01-14\n",
       "8         2020-01-02\n",
       "9         2020-01-01\n",
       "             ...    \n",
       "419477    2020-01-08\n",
       "419479    2020-01-03\n",
       "419482    2020-01-20\n",
       "419483    2020-01-16\n",
       "419484    2020-01-19\n",
       "Name: DATE_DEPARTURE_LCL, Length: 272667, dtype: object"
      ]
     },
     "execution_count": 17,
     "metadata": {},
     "output_type": "execute_result"
    }
   ],
   "source": [
    "train_df['DATE_DEPARTURE_LCL'].dt.strftime(\"%Y-%m-%d\")"
   ]
  },
  {
   "cell_type": "code",
   "execution_count": 18,
   "metadata": {},
   "outputs": [],
   "source": [
    "#train_df['DAY_DEPARTURE_UTC'] = train_df['DATE_DEPARTURE_UTC'].dt.strftime(\"%Y-%m-%d\")\n",
    "#train_df['HOUR_DEPARTURE_UTC'] = train_df['DATE_DEPARTURE_UTC'].dt.strftime(\"%H\").astype(int)"
   ]
  },
  {
   "cell_type": "code",
   "execution_count": 19,
   "metadata": {},
   "outputs": [],
   "source": [
    "train_df['DAY_ARRIVAL_LCL'] = train_df['DATE_ARRIVAL_LCL'].dt.strftime(\"%Y-%m-%d\")\n",
    "train_df['HOUR_ARRIVAL_LCL'] = train_df['DATE_ARRIVAL_LCL'].dt.strftime(\"%H\").astype(int)\n",
    "train_df['WEEK_DAY_ARRIVAL_LCL'] = train_df['DATE_ARRIVAL_LCL'].dt.strftime(\"%a\")"
   ]
  },
  {
   "cell_type": "code",
   "execution_count": 20,
   "metadata": {},
   "outputs": [],
   "source": [
    "train_df['DAY_DEPARTURE_LCL'] = train_df['DATE_DEPARTURE_LCL'].dt.strftime(\"%Y-%m-%d\")\n",
    "train_df['HOUR_DEPARTURE_LCL'] = train_df['DATE_DEPARTURE_LCL'].dt.strftime(\"%H\").astype(int)\n",
    "train_df['WEEK_DAY_DEPARTURE_LCL'] = train_df['DATE_DEPARTURE_LCL'].dt.strftime(\"%a\")"
   ]
  },
  {
   "cell_type": "code",
   "execution_count": 21,
   "metadata": {},
   "outputs": [
    {
     "data": {
      "text/html": [
       "<div>\n",
       "<style scoped>\n",
       "    .dataframe tbody tr th:only-of-type {\n",
       "        vertical-align: middle;\n",
       "    }\n",
       "\n",
       "    .dataframe tbody tr th {\n",
       "        vertical-align: top;\n",
       "    }\n",
       "\n",
       "    .dataframe thead th {\n",
       "        text-align: right;\n",
       "    }\n",
       "</style>\n",
       "<table border=\"1\" class=\"dataframe\">\n",
       "  <thead>\n",
       "    <tr style=\"text-align: right;\">\n",
       "      <th></th>\n",
       "      <th>DATE_DEPARTURE_LCL</th>\n",
       "      <th>DATE_ARRIVAL_LCL</th>\n",
       "      <th>ORIGIN_AIRPORT_ID</th>\n",
       "      <th>DEST_AIRPORT_ID</th>\n",
       "      <th>TAIL_NUM</th>\n",
       "      <th>OP_CARRIER_AIRLINE_ID</th>\n",
       "      <th>DISTANCE</th>\n",
       "      <th>DEP_DEL15</th>\n",
       "      <th>ARR_DEL15</th>\n",
       "      <th>DAY_ARRIVAL_LCL</th>\n",
       "      <th>HOUR_ARRIVAL_LCL</th>\n",
       "      <th>WEEK_DAY_ARRIVAL_LCL</th>\n",
       "      <th>DAY_DEPARTURE_LCL</th>\n",
       "      <th>HOUR_DEPARTURE_LCL</th>\n",
       "      <th>WEEK_DAY_DEPARTURE_LCL</th>\n",
       "    </tr>\n",
       "  </thead>\n",
       "  <tbody>\n",
       "    <tr>\n",
       "      <th>0</th>\n",
       "      <td>2020-01-18 15:10:00</td>\n",
       "      <td>2020-01-18 15:59:00</td>\n",
       "      <td>14869</td>\n",
       "      <td>14908</td>\n",
       "      <td>N128DU</td>\n",
       "      <td>19790</td>\n",
       "      <td>588.0</td>\n",
       "      <td>0.0</td>\n",
       "      <td>0</td>\n",
       "      <td>2020-01-18</td>\n",
       "      <td>15</td>\n",
       "      <td>Sat</td>\n",
       "      <td>2020-01-18</td>\n",
       "      <td>15</td>\n",
       "      <td>Sat</td>\n",
       "    </tr>\n",
       "    <tr>\n",
       "      <th>3</th>\n",
       "      <td>2020-01-14 20:45:00</td>\n",
       "      <td>2020-01-14 21:37:00</td>\n",
       "      <td>15016</td>\n",
       "      <td>11423</td>\n",
       "      <td>N778SW</td>\n",
       "      <td>19393</td>\n",
       "      <td>259.0</td>\n",
       "      <td>0.0</td>\n",
       "      <td>0</td>\n",
       "      <td>2020-01-14</td>\n",
       "      <td>21</td>\n",
       "      <td>Tue</td>\n",
       "      <td>2020-01-14</td>\n",
       "      <td>20</td>\n",
       "      <td>Tue</td>\n",
       "    </tr>\n",
       "    <tr>\n",
       "      <th>7</th>\n",
       "      <td>2020-01-14 10:27:00</td>\n",
       "      <td>2020-01-14 12:40:00</td>\n",
       "      <td>10800</td>\n",
       "      <td>14107</td>\n",
       "      <td>N762SW</td>\n",
       "      <td>19393</td>\n",
       "      <td>369.0</td>\n",
       "      <td>0.0</td>\n",
       "      <td>0</td>\n",
       "      <td>2020-01-14</td>\n",
       "      <td>12</td>\n",
       "      <td>Tue</td>\n",
       "      <td>2020-01-14</td>\n",
       "      <td>10</td>\n",
       "      <td>Tue</td>\n",
       "    </tr>\n",
       "    <tr>\n",
       "      <th>8</th>\n",
       "      <td>2020-01-02 11:55:00</td>\n",
       "      <td>2020-01-02 19:31:00</td>\n",
       "      <td>14771</td>\n",
       "      <td>11433</td>\n",
       "      <td>N897DN</td>\n",
       "      <td>19790</td>\n",
       "      <td>2079.0</td>\n",
       "      <td>0.0</td>\n",
       "      <td>0</td>\n",
       "      <td>2020-01-02</td>\n",
       "      <td>19</td>\n",
       "      <td>Thu</td>\n",
       "      <td>2020-01-02</td>\n",
       "      <td>11</td>\n",
       "      <td>Thu</td>\n",
       "    </tr>\n",
       "    <tr>\n",
       "      <th>9</th>\n",
       "      <td>2020-01-01 07:43:00</td>\n",
       "      <td>2020-01-01 09:57:00</td>\n",
       "      <td>14831</td>\n",
       "      <td>14747</td>\n",
       "      <td>N552WN</td>\n",
       "      <td>19393</td>\n",
       "      <td>696.0</td>\n",
       "      <td>0.0</td>\n",
       "      <td>0</td>\n",
       "      <td>2020-01-01</td>\n",
       "      <td>9</td>\n",
       "      <td>Wed</td>\n",
       "      <td>2020-01-01</td>\n",
       "      <td>7</td>\n",
       "      <td>Wed</td>\n",
       "    </tr>\n",
       "  </tbody>\n",
       "</table>\n",
       "</div>"
      ],
      "text/plain": [
       "   DATE_DEPARTURE_LCL    DATE_ARRIVAL_LCL  ORIGIN_AIRPORT_ID  DEST_AIRPORT_ID  \\\n",
       "0 2020-01-18 15:10:00 2020-01-18 15:59:00              14869            14908   \n",
       "3 2020-01-14 20:45:00 2020-01-14 21:37:00              15016            11423   \n",
       "7 2020-01-14 10:27:00 2020-01-14 12:40:00              10800            14107   \n",
       "8 2020-01-02 11:55:00 2020-01-02 19:31:00              14771            11433   \n",
       "9 2020-01-01 07:43:00 2020-01-01 09:57:00              14831            14747   \n",
       "\n",
       "  TAIL_NUM  OP_CARRIER_AIRLINE_ID  DISTANCE  DEP_DEL15  ARR_DEL15  \\\n",
       "0   N128DU                  19790     588.0        0.0          0   \n",
       "3   N778SW                  19393     259.0        0.0          0   \n",
       "7   N762SW                  19393     369.0        0.0          0   \n",
       "8   N897DN                  19790    2079.0        0.0          0   \n",
       "9   N552WN                  19393     696.0        0.0          0   \n",
       "\n",
       "  DAY_ARRIVAL_LCL  HOUR_ARRIVAL_LCL WEEK_DAY_ARRIVAL_LCL DAY_DEPARTURE_LCL  \\\n",
       "0      2020-01-18                15                  Sat        2020-01-18   \n",
       "3      2020-01-14                21                  Tue        2020-01-14   \n",
       "7      2020-01-14                12                  Tue        2020-01-14   \n",
       "8      2020-01-02                19                  Thu        2020-01-02   \n",
       "9      2020-01-01                 9                  Wed        2020-01-01   \n",
       "\n",
       "   HOUR_DEPARTURE_LCL WEEK_DAY_DEPARTURE_LCL  \n",
       "0                  15                    Sat  \n",
       "3                  20                    Tue  \n",
       "7                  10                    Tue  \n",
       "8                  11                    Thu  \n",
       "9                   7                    Wed  "
      ]
     },
     "execution_count": 21,
     "metadata": {},
     "output_type": "execute_result"
    }
   ],
   "source": [
    "train_df.head()"
   ]
  },
  {
   "cell_type": "code",
   "execution_count": 32,
   "metadata": {},
   "outputs": [
    {
     "data": {
      "image/png": "[encoded data removed]",
      "text/plain": [
       "<Figure size 864x576 with 2 Axes>"
      ]
     },
     "metadata": {
      "needs_background": "light"
     },
     "output_type": "display_data"
    }
   ],
   "source": [
    "plt.figure(figsize = (12,8))\n",
    "sns.heatmap(train_df.corr(), \n",
    "            annot=True,     # <-- write the numbers on the squares\n",
    "            cmap='RdBu_r'); "
   ]
  },
  {
   "cell_type": "markdown",
   "metadata": {},
   "source": []
  },
  {
   "cell_type": "code",
   "execution_count": 23,
   "metadata": {},
   "outputs": [
    {
     "data": {
      "text/html": [
       "<div>\n",
       "<style scoped>\n",
       "    .dataframe tbody tr th:only-of-type {\n",
       "        vertical-align: middle;\n",
       "    }\n",
       "\n",
       "    .dataframe tbody tr th {\n",
       "        vertical-align: top;\n",
       "    }\n",
       "\n",
       "    .dataframe thead th {\n",
       "        text-align: right;\n",
       "    }\n",
       "</style>\n",
       "<table border=\"1\" class=\"dataframe\">\n",
       "  <thead>\n",
       "    <tr style=\"text-align: right;\">\n",
       "      <th></th>\n",
       "      <th>DATE_DEPARTURE_LCL</th>\n",
       "      <th>DATE_ARRIVAL_LCL</th>\n",
       "      <th>ORIGIN_AIRPORT_ID</th>\n",
       "      <th>DEST_AIRPORT_ID</th>\n",
       "      <th>TAIL_NUM</th>\n",
       "      <th>OP_CARRIER_AIRLINE_ID</th>\n",
       "      <th>DISTANCE</th>\n",
       "      <th>DEP_DEL15</th>\n",
       "      <th>ARR_DEL15</th>\n",
       "      <th>DAY_ARRIVAL_LCL</th>\n",
       "      <th>HOUR_ARRIVAL_LCL</th>\n",
       "      <th>WEEK_DAY_ARRIVAL_LCL</th>\n",
       "      <th>DAY_DEPARTURE_LCL</th>\n",
       "      <th>HOUR_DEPARTURE_LCL</th>\n",
       "      <th>WEEK_DAY_DEPARTURE_LCL</th>\n",
       "    </tr>\n",
       "  </thead>\n",
       "  <tbody>\n",
       "    <tr>\n",
       "      <th>0</th>\n",
       "      <td>2020-01-18 15:10:00</td>\n",
       "      <td>2020-01-18 15:59:00</td>\n",
       "      <td>14869</td>\n",
       "      <td>14908</td>\n",
       "      <td>N128DU</td>\n",
       "      <td>19790</td>\n",
       "      <td>588.0</td>\n",
       "      <td>0.0</td>\n",
       "      <td>0</td>\n",
       "      <td>2020-01-18</td>\n",
       "      <td>15</td>\n",
       "      <td>Sat</td>\n",
       "      <td>2020-01-18</td>\n",
       "      <td>15</td>\n",
       "      <td>Sat</td>\n",
       "    </tr>\n",
       "    <tr>\n",
       "      <th>3</th>\n",
       "      <td>2020-01-14 20:45:00</td>\n",
       "      <td>2020-01-14 21:37:00</td>\n",
       "      <td>15016</td>\n",
       "      <td>11423</td>\n",
       "      <td>N778SW</td>\n",
       "      <td>19393</td>\n",
       "      <td>259.0</td>\n",
       "      <td>0.0</td>\n",
       "      <td>0</td>\n",
       "      <td>2020-01-14</td>\n",
       "      <td>21</td>\n",
       "      <td>Tue</td>\n",
       "      <td>2020-01-14</td>\n",
       "      <td>20</td>\n",
       "      <td>Tue</td>\n",
       "    </tr>\n",
       "    <tr>\n",
       "      <th>7</th>\n",
       "      <td>2020-01-14 10:27:00</td>\n",
       "      <td>2020-01-14 12:40:00</td>\n",
       "      <td>10800</td>\n",
       "      <td>14107</td>\n",
       "      <td>N762SW</td>\n",
       "      <td>19393</td>\n",
       "      <td>369.0</td>\n",
       "      <td>0.0</td>\n",
       "      <td>0</td>\n",
       "      <td>2020-01-14</td>\n",
       "      <td>12</td>\n",
       "      <td>Tue</td>\n",
       "      <td>2020-01-14</td>\n",
       "      <td>10</td>\n",
       "      <td>Tue</td>\n",
       "    </tr>\n",
       "    <tr>\n",
       "      <th>8</th>\n",
       "      <td>2020-01-02 11:55:00</td>\n",
       "      <td>2020-01-02 19:31:00</td>\n",
       "      <td>14771</td>\n",
       "      <td>11433</td>\n",
       "      <td>N897DN</td>\n",
       "      <td>19790</td>\n",
       "      <td>2079.0</td>\n",
       "      <td>0.0</td>\n",
       "      <td>0</td>\n",
       "      <td>2020-01-02</td>\n",
       "      <td>19</td>\n",
       "      <td>Thu</td>\n",
       "      <td>2020-01-02</td>\n",
       "      <td>11</td>\n",
       "      <td>Thu</td>\n",
       "    </tr>\n",
       "    <tr>\n",
       "      <th>9</th>\n",
       "      <td>2020-01-01 07:43:00</td>\n",
       "      <td>2020-01-01 09:57:00</td>\n",
       "      <td>14831</td>\n",
       "      <td>14747</td>\n",
       "      <td>N552WN</td>\n",
       "      <td>19393</td>\n",
       "      <td>696.0</td>\n",
       "      <td>0.0</td>\n",
       "      <td>0</td>\n",
       "      <td>2020-01-01</td>\n",
       "      <td>9</td>\n",
       "      <td>Wed</td>\n",
       "      <td>2020-01-01</td>\n",
       "      <td>7</td>\n",
       "      <td>Wed</td>\n",
       "    </tr>\n",
       "  </tbody>\n",
       "</table>\n",
       "</div>"
      ],
      "text/plain": [
       "   DATE_DEPARTURE_LCL    DATE_ARRIVAL_LCL  ORIGIN_AIRPORT_ID  DEST_AIRPORT_ID  \\\n",
       "0 2020-01-18 15:10:00 2020-01-18 15:59:00              14869            14908   \n",
       "3 2020-01-14 20:45:00 2020-01-14 21:37:00              15016            11423   \n",
       "7 2020-01-14 10:27:00 2020-01-14 12:40:00              10800            14107   \n",
       "8 2020-01-02 11:55:00 2020-01-02 19:31:00              14771            11433   \n",
       "9 2020-01-01 07:43:00 2020-01-01 09:57:00              14831            14747   \n",
       "\n",
       "  TAIL_NUM  OP_CARRIER_AIRLINE_ID  DISTANCE  DEP_DEL15  ARR_DEL15  \\\n",
       "0   N128DU                  19790     588.0        0.0          0   \n",
       "3   N778SW                  19393     259.0        0.0          0   \n",
       "7   N762SW                  19393     369.0        0.0          0   \n",
       "8   N897DN                  19790    2079.0        0.0          0   \n",
       "9   N552WN                  19393     696.0        0.0          0   \n",
       "\n",
       "  DAY_ARRIVAL_LCL  HOUR_ARRIVAL_LCL WEEK_DAY_ARRIVAL_LCL DAY_DEPARTURE_LCL  \\\n",
       "0      2020-01-18                15                  Sat        2020-01-18   \n",
       "3      2020-01-14                21                  Tue        2020-01-14   \n",
       "7      2020-01-14                12                  Tue        2020-01-14   \n",
       "8      2020-01-02                19                  Thu        2020-01-02   \n",
       "9      2020-01-01                 9                  Wed        2020-01-01   \n",
       "\n",
       "   HOUR_DEPARTURE_LCL WEEK_DAY_DEPARTURE_LCL  \n",
       "0                  15                    Sat  \n",
       "3                  20                    Tue  \n",
       "7                  10                    Tue  \n",
       "8                  11                    Thu  \n",
       "9                   7                    Wed  "
      ]
     },
     "execution_count": 23,
     "metadata": {},
     "output_type": "execute_result"
    }
   ],
   "source": [
    "train_df.head()"
   ]
  },
  {
   "cell_type": "code",
   "execution_count": 36,
   "metadata": {},
   "outputs": [
    {
     "data": {
      "text/plain": [
       "<matplotlib.axes._subplots.AxesSubplot at 0x133af75d0>"
      ]
     },
     "execution_count": 36,
     "metadata": {},
     "output_type": "execute_result"
    },
    {
     "data": {
      "image/png": "[encoded data removed]",
      "text/plain": [
       "<Figure size 432x288 with 1 Axes>"
      ]
     },
     "metadata": {
      "needs_background": "light"
     },
     "output_type": "display_data"
    }
   ],
   "source": [
    "train_df['HOUR_DEPARTURE_LCL'].hist()"
   ]
  },
  {
   "cell_type": "code",
   "execution_count": 34,
   "metadata": {},
   "outputs": [
    {
     "data": {
      "text/plain": [
       "<matplotlib.axes._subplots.AxesSubplot at 0x1339f2e90>"
      ]
     },
     "execution_count": 34,
     "metadata": {},
     "output_type": "execute_result"
    },
    {
     "data": {
      "image/png": "[encoded data removed]",
      "text/plain": [
       "<Figure size 432x288 with 1 Axes>"
      ]
     },
     "metadata": {
      "needs_background": "light"
     },
     "output_type": "display_data"
    }
   ],
   "source": [
    "train_df['DISTANCE'].hist()"
   ]
  },
  {
   "cell_type": "markdown",
   "metadata": {},
   "source": [
    "## #2.4 FEATURE SELECTION"
   ]
  },
  {
   "cell_type": "code",
   "execution_count": null,
   "metadata": {},
   "outputs": [],
   "source": []
  },
  {
   "cell_type": "markdown",
   "metadata": {},
   "source": [
    "# #3. TRAIN MODEL"
   ]
  },
  {
   "cell_type": "code",
   "execution_count": 24,
   "metadata": {},
   "outputs": [
    {
     "ename": "NameError",
     "evalue": "name 'X' is not defined",
     "output_type": "error",
     "traceback": [
      "\u001b[0;31m---------------------------------------------------------------------------\u001b[0m",
      "\u001b[0;31mNameError\u001b[0m                                 Traceback (most recent call last)",
      "\u001b[0;32m<ipython-input-24-e89fca237ec3>\u001b[0m in \u001b[0;36m<module>\u001b[0;34m\u001b[0m\n\u001b[0;32m----> 1\u001b[0;31m \u001b[0mX_train\u001b[0m\u001b[0;34m,\u001b[0m \u001b[0mX_test\u001b[0m\u001b[0;34m,\u001b[0m \u001b[0my_train\u001b[0m\u001b[0;34m,\u001b[0m \u001b[0my_test\u001b[0m \u001b[0;34m=\u001b[0m \u001b[0mtrain_test_split\u001b[0m\u001b[0;34m(\u001b[0m\u001b[0mX\u001b[0m\u001b[0;34m,\u001b[0m \u001b[0my\u001b[0m\u001b[0;34m,\u001b[0m \u001b[0mtest_size\u001b[0m\u001b[0;34m=\u001b[0m\u001b[0;36m0.33\u001b[0m\u001b[0;34m,\u001b[0m \u001b[0mrandom_state\u001b[0m\u001b[0;34m=\u001b[0m\u001b[0;36m42\u001b[0m\u001b[0;34m)\u001b[0m\u001b[0;34m\u001b[0m\u001b[0;34m\u001b[0m\u001b[0m\n\u001b[0m\u001b[1;32m      2\u001b[0m \u001b[0;34m\u001b[0m\u001b[0m\n\u001b[1;32m      3\u001b[0m \u001b[0mX_train\u001b[0m \u001b[0;34m=\u001b[0m \u001b[0mtrain_df\u001b[0m\u001b[0;34m.\u001b[0m\u001b[0mdrop\u001b[0m\u001b[0;34m(\u001b[0m\u001b[0mcolumns\u001b[0m\u001b[0;34m=\u001b[0m\u001b[0;34m[\u001b[0m\u001b[0;34m'ARR_DEL15'\u001b[0m\u001b[0;34m]\u001b[0m\u001b[0;34m)\u001b[0m\u001b[0;34m\u001b[0m\u001b[0;34m\u001b[0m\u001b[0m\n\u001b[1;32m      4\u001b[0m \u001b[0my_train\u001b[0m \u001b[0;34m=\u001b[0m \u001b[0mtrain_df\u001b[0m\u001b[0;34m[\u001b[0m\u001b[0;34m'ARR_DEL15'\u001b[0m\u001b[0;34m]\u001b[0m\u001b[0;34m\u001b[0m\u001b[0;34m\u001b[0m\u001b[0m\n",
      "\u001b[0;31mNameError\u001b[0m: name 'X' is not defined"
     ]
    }
   ],
   "source": [
    "X_train, X_test, y_train, y_test = train_test_split(X, y, test_size=0.33, random_state=42)\n",
    "\n",
    "X_train = train_df.drop(columns=['ARR_DEL15'])\n",
    "y_train = train_df['ARR_DEL15']"
   ]
  },
  {
   "cell_type": "markdown",
   "metadata": {},
   "source": [
    "# #4. EVALUATE RESULTS"
   ]
  },
  {
   "cell_type": "markdown",
   "metadata": {},
   "source": [
    "# #5 ITERATE"
   ]
  },
  {
   "cell_type": "code",
   "execution_count": null,
   "metadata": {},
   "outputs": [],
   "source": []
  }
 ],
 "metadata": {
  "kernelspec": {
   "display_name": "Python 3",
   "language": "python",
   "name": "python3"
  },
  "language_info": {
   "codemirror_mode": {
    "name": "ipython",
    "version": 3
   },
   "file_extension": ".py",
   "mimetype": "text/x-python",
   "name": "python",
   "nbconvert_exporter": "python",
   "pygments_lexer": "ipython3",
   "version": "3.7.7"
  }
 },
 "nbformat": 4,
 "nbformat_minor": 4
}
